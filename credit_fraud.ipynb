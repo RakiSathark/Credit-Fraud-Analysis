{
 "cells": [
  {
   "cell_type": "markdown",
   "metadata": {
    "colab_type": "text",
    "id": "Lwrfj5-9anfQ"
   },
   "source": [
    "\n",
    "\n",
    "---\n",
    "\n",
    "\n",
    "# Credit Card Data Fraud Analysis\n",
    "\n",
    "\n",
    "---\n",
    "\n"
   ]
  },
  {
   "cell_type": "markdown",
   "metadata": {},
   "source": [
    "### total transactions data flat file"
   ]
  },
  {
   "cell_type": "markdown",
   "metadata": {},
   "source": [
    "Filter food products by nutritional information. Serving size is 100g for all items."
   ]
  },
  {
   "cell_type": "code",
   "execution_count": 1,
   "metadata": {},
   "outputs": [
    {
     "data": {
      "text/plain": [
       "Index(['Card_Number', 'Card_Family', 'Credit_Limit', 'Cust_ID',\n",
       "       'Transaction_ID', 'Transaction_Date', 'Credit_Card_ID',\n",
       "       'Transaction_Value', 'Transaction_Segment', 'Cust_ID.1', 'Age',\n",
       "       'Customer_Segment', 'Customer_Vintage_Group', 'Transaction_ID.1',\n",
       "       'Fraud_Flag'],\n",
       "      dtype='object')"
      ]
     },
     "execution_count": 1,
     "metadata": {},
     "output_type": "execute_result"
    }
   ],
   "source": [
    "import pandas as pd\n",
    "import numpy as np\n",
    "\n",
    "df = pd.read_csv(\"TotalBase.csv\")\n",
    "df.columns"
   ]
  },
  {
   "cell_type": "code",
   "execution_count": 2,
   "metadata": {
    "scrolled": true
   },
   "outputs": [
    {
     "data": {
      "text/html": [
       "<div>\n",
       "<style scoped>\n",
       "    .dataframe tbody tr th:only-of-type {\n",
       "        vertical-align: middle;\n",
       "    }\n",
       "\n",
       "    .dataframe tbody tr th {\n",
       "        vertical-align: top;\n",
       "    }\n",
       "\n",
       "    .dataframe thead th {\n",
       "        text-align: right;\n",
       "    }\n",
       "</style>\n",
       "<table border=\"1\" class=\"dataframe\">\n",
       "  <thead>\n",
       "    <tr style=\"text-align: right;\">\n",
       "      <th></th>\n",
       "      <th>Card_Number</th>\n",
       "      <th>Card_Family</th>\n",
       "      <th>Credit_Limit</th>\n",
       "      <th>Cust_ID</th>\n",
       "      <th>Transaction_ID</th>\n",
       "      <th>Transaction_Date</th>\n",
       "      <th>Credit_Card_ID</th>\n",
       "      <th>Transaction_Value</th>\n",
       "      <th>Transaction_Segment</th>\n",
       "      <th>Cust_ID.1</th>\n",
       "      <th>Age</th>\n",
       "      <th>Customer_Segment</th>\n",
       "      <th>Customer_Vintage_Group</th>\n",
       "      <th>Transaction_ID.1</th>\n",
       "      <th>Fraud_Flag</th>\n",
       "    </tr>\n",
       "  </thead>\n",
       "  <tbody>\n",
       "    <tr>\n",
       "      <th>0</th>\n",
       "      <td>1629-9566-3285-2123</td>\n",
       "      <td>Platinum</td>\n",
       "      <td>194000</td>\n",
       "      <td>CC24544</td>\n",
       "      <td>CTID28830551</td>\n",
       "      <td>24-Apr-16</td>\n",
       "      <td>1629-9566-3285-2123</td>\n",
       "      <td>23649</td>\n",
       "      <td>SEG25</td>\n",
       "      <td>CC24544</td>\n",
       "      <td>23</td>\n",
       "      <td>Gold</td>\n",
       "      <td>VG3</td>\n",
       "      <td>NaN</td>\n",
       "      <td>NaN</td>\n",
       "    </tr>\n",
       "    <tr>\n",
       "      <th>1</th>\n",
       "      <td>3697-6001-4909-5350</td>\n",
       "      <td>Gold</td>\n",
       "      <td>15000</td>\n",
       "      <td>CC62261</td>\n",
       "      <td>CTID45504917</td>\n",
       "      <td>11-Feb-16</td>\n",
       "      <td>3697-6001-4909-5350</td>\n",
       "      <td>26726</td>\n",
       "      <td>SEG16</td>\n",
       "      <td>CC62261</td>\n",
       "      <td>48</td>\n",
       "      <td>Gold</td>\n",
       "      <td>VG3</td>\n",
       "      <td>NaN</td>\n",
       "      <td>NaN</td>\n",
       "    </tr>\n",
       "    <tr>\n",
       "      <th>2</th>\n",
       "      <td>5864-4475-3659-1440</td>\n",
       "      <td>Gold</td>\n",
       "      <td>2000</td>\n",
       "      <td>CC99402</td>\n",
       "      <td>CTID47312290</td>\n",
       "      <td>01-Nov-16</td>\n",
       "      <td>5864-4475-3659-1440</td>\n",
       "      <td>22012</td>\n",
       "      <td>SEG14</td>\n",
       "      <td>CC99402</td>\n",
       "      <td>23</td>\n",
       "      <td>Diamond</td>\n",
       "      <td>VG1</td>\n",
       "      <td>NaN</td>\n",
       "      <td>NaN</td>\n",
       "    </tr>\n",
       "    <tr>\n",
       "      <th>3</th>\n",
       "      <td>5991-4421-8476-3804</td>\n",
       "      <td>Gold</td>\n",
       "      <td>19000</td>\n",
       "      <td>CC14871</td>\n",
       "      <td>CTID25637718</td>\n",
       "      <td>28-Jan-16</td>\n",
       "      <td>5991-4421-8476-3804</td>\n",
       "      <td>37637</td>\n",
       "      <td>SEG17</td>\n",
       "      <td>CC14871</td>\n",
       "      <td>44</td>\n",
       "      <td>Platinum</td>\n",
       "      <td>VG2</td>\n",
       "      <td>NaN</td>\n",
       "      <td>NaN</td>\n",
       "    </tr>\n",
       "    <tr>\n",
       "      <th>4</th>\n",
       "      <td>1893-8853-9900-8478</td>\n",
       "      <td>Premium</td>\n",
       "      <td>417000</td>\n",
       "      <td>CC11165</td>\n",
       "      <td>CTID66743960</td>\n",
       "      <td>17-Mar-16</td>\n",
       "      <td>1893-8853-9900-8478</td>\n",
       "      <td>5113</td>\n",
       "      <td>SEG14</td>\n",
       "      <td>CC11165</td>\n",
       "      <td>42</td>\n",
       "      <td>Gold</td>\n",
       "      <td>VG3</td>\n",
       "      <td>NaN</td>\n",
       "      <td>NaN</td>\n",
       "    </tr>\n",
       "  </tbody>\n",
       "</table>\n",
       "</div>"
      ],
      "text/plain": [
       "           Card_Number Card_Family  Credit_Limit  Cust_ID Transaction_ID  \\\n",
       "0  1629-9566-3285-2123    Platinum        194000  CC24544   CTID28830551   \n",
       "1  3697-6001-4909-5350        Gold         15000  CC62261   CTID45504917   \n",
       "2  5864-4475-3659-1440        Gold          2000  CC99402   CTID47312290   \n",
       "3  5991-4421-8476-3804        Gold         19000  CC14871   CTID25637718   \n",
       "4  1893-8853-9900-8478     Premium        417000  CC11165   CTID66743960   \n",
       "\n",
       "  Transaction_Date       Credit_Card_ID  Transaction_Value  \\\n",
       "0        24-Apr-16  1629-9566-3285-2123              23649   \n",
       "1        11-Feb-16  3697-6001-4909-5350              26726   \n",
       "2        01-Nov-16  5864-4475-3659-1440              22012   \n",
       "3        28-Jan-16  5991-4421-8476-3804              37637   \n",
       "4        17-Mar-16  1893-8853-9900-8478               5113   \n",
       "\n",
       "  Transaction_Segment Cust_ID.1  Age Customer_Segment Customer_Vintage_Group  \\\n",
       "0               SEG25   CC24544   23             Gold                    VG3   \n",
       "1               SEG16   CC62261   48             Gold                    VG3   \n",
       "2               SEG14   CC99402   23          Diamond                    VG1   \n",
       "3               SEG17   CC14871   44         Platinum                    VG2   \n",
       "4               SEG14   CC11165   42             Gold                    VG3   \n",
       "\n",
       "  Transaction_ID.1  Fraud_Flag  \n",
       "0              NaN         NaN  \n",
       "1              NaN         NaN  \n",
       "2              NaN         NaN  \n",
       "3              NaN         NaN  \n",
       "4              NaN         NaN  "
      ]
     },
     "execution_count": 2,
     "metadata": {},
     "output_type": "execute_result"
    }
   ],
   "source": [
    "df.head()"
   ]
  },
  {
   "cell_type": "code",
   "execution_count": 3,
   "metadata": {
    "scrolled": true
   },
   "outputs": [
    {
     "data": {
      "text/html": [
       "<div>\n",
       "<style scoped>\n",
       "    .dataframe tbody tr th:only-of-type {\n",
       "        vertical-align: middle;\n",
       "    }\n",
       "\n",
       "    .dataframe tbody tr th {\n",
       "        vertical-align: top;\n",
       "    }\n",
       "\n",
       "    .dataframe thead th {\n",
       "        text-align: right;\n",
       "    }\n",
       "</style>\n",
       "<table border=\"1\" class=\"dataframe\">\n",
       "  <thead>\n",
       "    <tr style=\"text-align: right;\">\n",
       "      <th></th>\n",
       "      <th>Card_Number</th>\n",
       "      <th>Card_Family</th>\n",
       "      <th>Credit_Limit</th>\n",
       "      <th>Cust_ID</th>\n",
       "      <th>Transaction_ID</th>\n",
       "      <th>Transaction_Date</th>\n",
       "      <th>Credit_Card_ID</th>\n",
       "      <th>Transaction_Value</th>\n",
       "      <th>Transaction_Segment</th>\n",
       "      <th>Cust_ID.1</th>\n",
       "      <th>Age</th>\n",
       "      <th>Customer_Segment</th>\n",
       "      <th>Customer_Vintage_Group</th>\n",
       "      <th>Transaction_ID.1</th>\n",
       "      <th>Fraud_Flag</th>\n",
       "    </tr>\n",
       "  </thead>\n",
       "  <tbody>\n",
       "    <tr>\n",
       "      <th>0</th>\n",
       "      <td>500</td>\n",
       "      <td>3</td>\n",
       "      <td>293</td>\n",
       "      <td>482</td>\n",
       "      <td>10000</td>\n",
       "      <td>366</td>\n",
       "      <td>500</td>\n",
       "      <td>9035</td>\n",
       "      <td>15</td>\n",
       "      <td>482</td>\n",
       "      <td>31</td>\n",
       "      <td>3</td>\n",
       "      <td>3</td>\n",
       "      <td>110</td>\n",
       "      <td>2</td>\n",
       "    </tr>\n",
       "  </tbody>\n",
       "</table>\n",
       "</div>"
      ],
      "text/plain": [
       "   Card_Number  Card_Family  Credit_Limit  Cust_ID  Transaction_ID  \\\n",
       "0          500            3           293      482           10000   \n",
       "\n",
       "   Transaction_Date  Credit_Card_ID  Transaction_Value  Transaction_Segment  \\\n",
       "0               366             500               9035                   15   \n",
       "\n",
       "   Cust_ID.1  Age  Customer_Segment  Customer_Vintage_Group  Transaction_ID.1  \\\n",
       "0        482   31                 3                       3               110   \n",
       "\n",
       "   Fraud_Flag  \n",
       "0           2  "
      ]
     },
     "execution_count": 3,
     "metadata": {},
     "output_type": "execute_result"
    }
   ],
   "source": [
    "data = np.array([len(df[col].unique()) for col in df.columns]).reshape(1,-1)\n",
    "unique_total = pd.DataFrame(data, columns = df.columns)\n",
    "unique_total"
   ]
  },
  {
   "cell_type": "code",
   "execution_count": 4,
   "metadata": {},
   "outputs": [
    {
     "data": {
      "text/plain": [
       "array(['Platinum', 'Gold', 'Premium'], dtype=object)"
      ]
     },
     "execution_count": 4,
     "metadata": {},
     "output_type": "execute_result"
    }
   ],
   "source": [
    "df['Card_Family'].unique()"
   ]
  },
  {
   "cell_type": "code",
   "execution_count": 5,
   "metadata": {},
   "outputs": [],
   "source": [
    "df['Card_Family'] = df['Card_Family'].map({'Platinum': 0, 'Gold': 1, 'Premium': 2})"
   ]
  },
  {
   "cell_type": "code",
   "execution_count": 6,
   "metadata": {},
   "outputs": [],
   "source": [
    "years, months = [], []\n",
    "for date in df['Transaction_Date']:\n",
    "    items = date.split('-')\n",
    "    years.append('20' + items[2])\n",
    "    months.append(items[1])"
   ]
  },
  {
   "cell_type": "code",
   "execution_count": 7,
   "metadata": {},
   "outputs": [
    {
     "data": {
      "text/plain": [
       "array({'Sep', 'Feb', 'Mar', 'Jan', 'Oct', 'Aug', 'Apr', 'Dec', 'Jul', 'May', 'Nov', 'Jun'},\n",
       "      dtype=object)"
      ]
     },
     "execution_count": 7,
     "metadata": {},
     "output_type": "execute_result"
    }
   ],
   "source": [
    "# get unique months\n",
    "np.array(set(months))"
   ]
  },
  {
   "cell_type": "code",
   "execution_count": 8,
   "metadata": {},
   "outputs": [],
   "source": [
    "# every month appears to be represented so we'll use this in our predictor variables\n",
    "df['Transaction_Month'] = months"
   ]
  },
  {
   "cell_type": "code",
   "execution_count": 9,
   "metadata": {},
   "outputs": [],
   "source": [
    "df['Transaction_Month'] = df['Transaction_Month'].map({'Jan': 1, 'Feb': 2, 'Mar': 3, 'Apr': 4, 'May': 5, 'Jun': 6, \\\n",
    "                                                         'Jul': 7, 'Aug': 8, 'Sep': 9, 'Oct': 10, 'Nov': 11, 'Dec': 12})"
   ]
  },
  {
   "cell_type": "code",
   "execution_count": 10,
   "metadata": {},
   "outputs": [
    {
     "data": {
      "text/plain": [
       "{'2016'}"
      ]
     },
     "execution_count": 10,
     "metadata": {},
     "output_type": "execute_result"
    }
   ],
   "source": [
    "# get unique years\n",
    "set(years)\n",
    "# since there is only one year we'll leave this out from our predictor variables"
   ]
  },
  {
   "cell_type": "code",
   "execution_count": 11,
   "metadata": {
    "scrolled": false
   },
   "outputs": [
    {
     "data": {
      "text/plain": [
       "array(['SEG25', 'SEG16', 'SEG14', 'SEG17', 'SEG13', 'SEG21', 'SEG18',\n",
       "       'SEG12', 'SEG22', 'SEG19', 'SEG23', 'SEG11', 'SEG24', 'SEG20',\n",
       "       'SEG15'], dtype=object)"
      ]
     },
     "execution_count": 11,
     "metadata": {},
     "output_type": "execute_result"
    }
   ],
   "source": [
    "df['Transaction_Segment'].unique()"
   ]
  },
  {
   "cell_type": "code",
   "execution_count": 12,
   "metadata": {},
   "outputs": [
    {
     "data": {
      "text/plain": [
       "array(['SEG11', 'SEG12', 'SEG13', 'SEG14', 'SEG15', 'SEG16', 'SEG17',\n",
       "       'SEG18', 'SEG19', 'SEG20', 'SEG21', 'SEG22', 'SEG23', 'SEG24',\n",
       "       'SEG25'], dtype='<U5')"
      ]
     },
     "execution_count": 12,
     "metadata": {},
     "output_type": "execute_result"
    }
   ],
   "source": [
    "# sort the transaction segment list\n",
    "seg = list(df['Transaction_Segment'].unique())\n",
    "seg.sort()\n",
    "np.array(seg)"
   ]
  },
  {
   "cell_type": "code",
   "execution_count": 13,
   "metadata": {},
   "outputs": [],
   "source": [
    "df['Transaction_Segment'] = df['Transaction_Segment'].map({'SEG11': 1, 'SEG12': 2, 'SEG13': 3, 'SEG14': 4, 'SEG15': 5, \\\n",
    "                                                             'SEG16': 6, 'SEG17': 7, 'SEG18': 8, 'SEG19': 9, 'SEG20': 10, \\\n",
    "                                                             'SEG21': 11, 'SEG22': 12, 'SEG23': 13, 'SEG24': 14, 'SEG25': 15})"
   ]
  },
  {
   "cell_type": "code",
   "execution_count": 14,
   "metadata": {},
   "outputs": [
    {
     "data": {
      "text/plain": [
       "array(['Gold', 'Diamond', 'Platinum'], dtype=object)"
      ]
     },
     "execution_count": 14,
     "metadata": {},
     "output_type": "execute_result"
    }
   ],
   "source": [
    "df['Customer_Segment'].unique()"
   ]
  },
  {
   "cell_type": "code",
   "execution_count": 15,
   "metadata": {},
   "outputs": [],
   "source": [
    "df['Customer_Segment'] = df['Customer_Segment'].map({'Gold': 0, 'Diamond': 1, 'Platinum': 2})"
   ]
  },
  {
   "cell_type": "code",
   "execution_count": 16,
   "metadata": {},
   "outputs": [
    {
     "data": {
      "text/plain": [
       "array(['VG3', 'VG1', 'VG2'], dtype=object)"
      ]
     },
     "execution_count": 16,
     "metadata": {},
     "output_type": "execute_result"
    }
   ],
   "source": [
    "df['Customer_Vintage_Group'].unique()"
   ]
  },
  {
   "cell_type": "code",
   "execution_count": 17,
   "metadata": {},
   "outputs": [],
   "source": [
    "df['Customer_Vintage_Group'] = df['Customer_Vintage_Group'].map({'VG1': 0, 'VG2': 1, 'VG3': 2})"
   ]
  },
  {
   "cell_type": "code",
   "execution_count": 18,
   "metadata": {},
   "outputs": [
    {
     "data": {
      "text/plain": [
       "array([nan,  1.])"
      ]
     },
     "execution_count": 18,
     "metadata": {},
     "output_type": "execute_result"
    }
   ],
   "source": [
    "df['Fraud_Flag'].unique()"
   ]
  },
  {
   "cell_type": "code",
   "execution_count": 19,
   "metadata": {},
   "outputs": [],
   "source": [
    "# convert fraud flag column to binary values\n",
    "df['Fraud_Flag'] = df['Fraud_Flag'].map({np.nan: 0, 1: 1})"
   ]
  },
  {
   "cell_type": "code",
   "execution_count": 20,
   "metadata": {},
   "outputs": [
    {
     "data": {
      "text/html": [
       "<div>\n",
       "<style scoped>\n",
       "    .dataframe tbody tr th:only-of-type {\n",
       "        vertical-align: middle;\n",
       "    }\n",
       "\n",
       "    .dataframe tbody tr th {\n",
       "        vertical-align: top;\n",
       "    }\n",
       "\n",
       "    .dataframe thead th {\n",
       "        text-align: right;\n",
       "    }\n",
       "</style>\n",
       "<table border=\"1\" class=\"dataframe\">\n",
       "  <thead>\n",
       "    <tr style=\"text-align: right;\">\n",
       "      <th></th>\n",
       "      <th>Card_Number</th>\n",
       "      <th>Card_Family</th>\n",
       "      <th>Credit_Limit</th>\n",
       "      <th>Cust_ID</th>\n",
       "      <th>Transaction_ID</th>\n",
       "      <th>Transaction_Date</th>\n",
       "      <th>Credit_Card_ID</th>\n",
       "      <th>Transaction_Value</th>\n",
       "      <th>Transaction_Segment</th>\n",
       "      <th>Cust_ID.1</th>\n",
       "      <th>Age</th>\n",
       "      <th>Customer_Segment</th>\n",
       "      <th>Customer_Vintage_Group</th>\n",
       "      <th>Transaction_ID.1</th>\n",
       "      <th>Fraud_Flag</th>\n",
       "      <th>Transaction_Month</th>\n",
       "    </tr>\n",
       "  </thead>\n",
       "  <tbody>\n",
       "    <tr>\n",
       "      <th>0</th>\n",
       "      <td>1629-9566-3285-2123</td>\n",
       "      <td>0</td>\n",
       "      <td>194000</td>\n",
       "      <td>CC24544</td>\n",
       "      <td>CTID28830551</td>\n",
       "      <td>24-Apr-16</td>\n",
       "      <td>1629-9566-3285-2123</td>\n",
       "      <td>23649</td>\n",
       "      <td>15</td>\n",
       "      <td>CC24544</td>\n",
       "      <td>23</td>\n",
       "      <td>0</td>\n",
       "      <td>2</td>\n",
       "      <td>NaN</td>\n",
       "      <td>0</td>\n",
       "      <td>4</td>\n",
       "    </tr>\n",
       "    <tr>\n",
       "      <th>1</th>\n",
       "      <td>3697-6001-4909-5350</td>\n",
       "      <td>1</td>\n",
       "      <td>15000</td>\n",
       "      <td>CC62261</td>\n",
       "      <td>CTID45504917</td>\n",
       "      <td>11-Feb-16</td>\n",
       "      <td>3697-6001-4909-5350</td>\n",
       "      <td>26726</td>\n",
       "      <td>6</td>\n",
       "      <td>CC62261</td>\n",
       "      <td>48</td>\n",
       "      <td>0</td>\n",
       "      <td>2</td>\n",
       "      <td>NaN</td>\n",
       "      <td>0</td>\n",
       "      <td>2</td>\n",
       "    </tr>\n",
       "    <tr>\n",
       "      <th>2</th>\n",
       "      <td>5864-4475-3659-1440</td>\n",
       "      <td>1</td>\n",
       "      <td>2000</td>\n",
       "      <td>CC99402</td>\n",
       "      <td>CTID47312290</td>\n",
       "      <td>01-Nov-16</td>\n",
       "      <td>5864-4475-3659-1440</td>\n",
       "      <td>22012</td>\n",
       "      <td>4</td>\n",
       "      <td>CC99402</td>\n",
       "      <td>23</td>\n",
       "      <td>1</td>\n",
       "      <td>0</td>\n",
       "      <td>NaN</td>\n",
       "      <td>0</td>\n",
       "      <td>11</td>\n",
       "    </tr>\n",
       "    <tr>\n",
       "      <th>3</th>\n",
       "      <td>5991-4421-8476-3804</td>\n",
       "      <td>1</td>\n",
       "      <td>19000</td>\n",
       "      <td>CC14871</td>\n",
       "      <td>CTID25637718</td>\n",
       "      <td>28-Jan-16</td>\n",
       "      <td>5991-4421-8476-3804</td>\n",
       "      <td>37637</td>\n",
       "      <td>7</td>\n",
       "      <td>CC14871</td>\n",
       "      <td>44</td>\n",
       "      <td>2</td>\n",
       "      <td>1</td>\n",
       "      <td>NaN</td>\n",
       "      <td>0</td>\n",
       "      <td>1</td>\n",
       "    </tr>\n",
       "    <tr>\n",
       "      <th>4</th>\n",
       "      <td>1893-8853-9900-8478</td>\n",
       "      <td>2</td>\n",
       "      <td>417000</td>\n",
       "      <td>CC11165</td>\n",
       "      <td>CTID66743960</td>\n",
       "      <td>17-Mar-16</td>\n",
       "      <td>1893-8853-9900-8478</td>\n",
       "      <td>5113</td>\n",
       "      <td>4</td>\n",
       "      <td>CC11165</td>\n",
       "      <td>42</td>\n",
       "      <td>0</td>\n",
       "      <td>2</td>\n",
       "      <td>NaN</td>\n",
       "      <td>0</td>\n",
       "      <td>3</td>\n",
       "    </tr>\n",
       "  </tbody>\n",
       "</table>\n",
       "</div>"
      ],
      "text/plain": [
       "           Card_Number  Card_Family  Credit_Limit  Cust_ID Transaction_ID  \\\n",
       "0  1629-9566-3285-2123            0        194000  CC24544   CTID28830551   \n",
       "1  3697-6001-4909-5350            1         15000  CC62261   CTID45504917   \n",
       "2  5864-4475-3659-1440            1          2000  CC99402   CTID47312290   \n",
       "3  5991-4421-8476-3804            1         19000  CC14871   CTID25637718   \n",
       "4  1893-8853-9900-8478            2        417000  CC11165   CTID66743960   \n",
       "\n",
       "  Transaction_Date       Credit_Card_ID  Transaction_Value  \\\n",
       "0        24-Apr-16  1629-9566-3285-2123              23649   \n",
       "1        11-Feb-16  3697-6001-4909-5350              26726   \n",
       "2        01-Nov-16  5864-4475-3659-1440              22012   \n",
       "3        28-Jan-16  5991-4421-8476-3804              37637   \n",
       "4        17-Mar-16  1893-8853-9900-8478               5113   \n",
       "\n",
       "   Transaction_Segment Cust_ID.1  Age  Customer_Segment  \\\n",
       "0                   15   CC24544   23                 0   \n",
       "1                    6   CC62261   48                 0   \n",
       "2                    4   CC99402   23                 1   \n",
       "3                    7   CC14871   44                 2   \n",
       "4                    4   CC11165   42                 0   \n",
       "\n",
       "   Customer_Vintage_Group Transaction_ID.1  Fraud_Flag  Transaction_Month  \n",
       "0                       2              NaN           0                  4  \n",
       "1                       2              NaN           0                  2  \n",
       "2                       0              NaN           0                 11  \n",
       "3                       1              NaN           0                  1  \n",
       "4                       2              NaN           0                  3  "
      ]
     },
     "execution_count": 20,
     "metadata": {},
     "output_type": "execute_result"
    }
   ],
   "source": [
    "df.head()"
   ]
  },
  {
   "cell_type": "code",
   "execution_count": 21,
   "metadata": {
    "scrolled": true
   },
   "outputs": [
    {
     "data": {
      "text/html": [
       "<style  type=\"text/css\" >\n",
       "    #T_973c3eec_b28f_11eb_9002_9822efbd4ae6row0_col0 {\n",
       "            background-color:  #000000;\n",
       "            color:  #f1f1f1;\n",
       "        }    #T_973c3eec_b28f_11eb_9002_9822efbd4ae6row0_col1 {\n",
       "            background-color:  #585858;\n",
       "            color:  #f1f1f1;\n",
       "        }    #T_973c3eec_b28f_11eb_9002_9822efbd4ae6row0_col2 {\n",
       "            background-color:  #fdfdfd;\n",
       "            color:  #000000;\n",
       "        }    #T_973c3eec_b28f_11eb_9002_9822efbd4ae6row0_col3 {\n",
       "            background-color:  #ffffff;\n",
       "            color:  #000000;\n",
       "        }    #T_973c3eec_b28f_11eb_9002_9822efbd4ae6row0_col4 {\n",
       "            background-color:  #fafafa;\n",
       "            color:  #000000;\n",
       "        }    #T_973c3eec_b28f_11eb_9002_9822efbd4ae6row0_col5 {\n",
       "            background-color:  #b2b2b2;\n",
       "            color:  #000000;\n",
       "        }    #T_973c3eec_b28f_11eb_9002_9822efbd4ae6row0_col6 {\n",
       "            background-color:  #9b9b9b;\n",
       "            color:  #000000;\n",
       "        }    #T_973c3eec_b28f_11eb_9002_9822efbd4ae6row0_col7 {\n",
       "            background-color:  #fcfcfc;\n",
       "            color:  #000000;\n",
       "        }    #T_973c3eec_b28f_11eb_9002_9822efbd4ae6row0_col8 {\n",
       "            background-color:  #fdfdfd;\n",
       "            color:  #000000;\n",
       "        }    #T_973c3eec_b28f_11eb_9002_9822efbd4ae6row1_col0 {\n",
       "            background-color:  #545454;\n",
       "            color:  #f1f1f1;\n",
       "        }    #T_973c3eec_b28f_11eb_9002_9822efbd4ae6row1_col1 {\n",
       "            background-color:  #000000;\n",
       "            color:  #f1f1f1;\n",
       "        }    #T_973c3eec_b28f_11eb_9002_9822efbd4ae6row1_col2 {\n",
       "            background-color:  #ffffff;\n",
       "            color:  #000000;\n",
       "        }    #T_973c3eec_b28f_11eb_9002_9822efbd4ae6row1_col3 {\n",
       "            background-color:  #fefefe;\n",
       "            color:  #000000;\n",
       "        }    #T_973c3eec_b28f_11eb_9002_9822efbd4ae6row1_col4 {\n",
       "            background-color:  #ffffff;\n",
       "            color:  #000000;\n",
       "        }    #T_973c3eec_b28f_11eb_9002_9822efbd4ae6row1_col5 {\n",
       "            background-color:  #a5a5a5;\n",
       "            color:  #000000;\n",
       "        }    #T_973c3eec_b28f_11eb_9002_9822efbd4ae6row1_col6 {\n",
       "            background-color:  #a3a3a3;\n",
       "            color:  #000000;\n",
       "        }    #T_973c3eec_b28f_11eb_9002_9822efbd4ae6row1_col7 {\n",
       "            background-color:  #fdfdfd;\n",
       "            color:  #000000;\n",
       "        }    #T_973c3eec_b28f_11eb_9002_9822efbd4ae6row1_col8 {\n",
       "            background-color:  #ffffff;\n",
       "            color:  #000000;\n",
       "        }    #T_973c3eec_b28f_11eb_9002_9822efbd4ae6row2_col0 {\n",
       "            background-color:  #f0f0f0;\n",
       "            color:  #000000;\n",
       "        }    #T_973c3eec_b28f_11eb_9002_9822efbd4ae6row2_col1 {\n",
       "            background-color:  #fcfcfc;\n",
       "            color:  #000000;\n",
       "        }    #T_973c3eec_b28f_11eb_9002_9822efbd4ae6row2_col2 {\n",
       "            background-color:  #000000;\n",
       "            color:  #f1f1f1;\n",
       "        }    #T_973c3eec_b28f_11eb_9002_9822efbd4ae6row2_col3 {\n",
       "            background-color:  #ffffff;\n",
       "            color:  #000000;\n",
       "        }    #T_973c3eec_b28f_11eb_9002_9822efbd4ae6row2_col4 {\n",
       "            background-color:  #fdfdfd;\n",
       "            color:  #000000;\n",
       "        }    #T_973c3eec_b28f_11eb_9002_9822efbd4ae6row2_col5 {\n",
       "            background-color:  #a8a8a8;\n",
       "            color:  #000000;\n",
       "        }    #T_973c3eec_b28f_11eb_9002_9822efbd4ae6row2_col6 {\n",
       "            background-color:  #a7a7a7;\n",
       "            color:  #000000;\n",
       "        }    #T_973c3eec_b28f_11eb_9002_9822efbd4ae6row2_col7 {\n",
       "            background-color:  #f8f8f8;\n",
       "            color:  #000000;\n",
       "        }    #T_973c3eec_b28f_11eb_9002_9822efbd4ae6row2_col8 {\n",
       "            background-color:  #f9f9f9;\n",
       "            color:  #000000;\n",
       "        }    #T_973c3eec_b28f_11eb_9002_9822efbd4ae6row3_col0 {\n",
       "            background-color:  #f2f2f2;\n",
       "            color:  #000000;\n",
       "        }    #T_973c3eec_b28f_11eb_9002_9822efbd4ae6row3_col1 {\n",
       "            background-color:  #fafafa;\n",
       "            color:  #000000;\n",
       "        }    #T_973c3eec_b28f_11eb_9002_9822efbd4ae6row3_col2 {\n",
       "            background-color:  #ffffff;\n",
       "            color:  #000000;\n",
       "        }    #T_973c3eec_b28f_11eb_9002_9822efbd4ae6row3_col3 {\n",
       "            background-color:  #000000;\n",
       "            color:  #f1f1f1;\n",
       "        }    #T_973c3eec_b28f_11eb_9002_9822efbd4ae6row3_col4 {\n",
       "            background-color:  #fdfdfd;\n",
       "            color:  #000000;\n",
       "        }    #T_973c3eec_b28f_11eb_9002_9822efbd4ae6row3_col5 {\n",
       "            background-color:  #a6a6a6;\n",
       "            color:  #000000;\n",
       "        }    #T_973c3eec_b28f_11eb_9002_9822efbd4ae6row3_col6 {\n",
       "            background-color:  #a8a8a8;\n",
       "            color:  #000000;\n",
       "        }    #T_973c3eec_b28f_11eb_9002_9822efbd4ae6row3_col7 {\n",
       "            background-color:  #fcfcfc;\n",
       "            color:  #000000;\n",
       "        }    #T_973c3eec_b28f_11eb_9002_9822efbd4ae6row3_col8 {\n",
       "            background-color:  #f7f7f7;\n",
       "            color:  #000000;\n",
       "        }    #T_973c3eec_b28f_11eb_9002_9822efbd4ae6row4_col0 {\n",
       "            background-color:  #efefef;\n",
       "            color:  #000000;\n",
       "        }    #T_973c3eec_b28f_11eb_9002_9822efbd4ae6row4_col1 {\n",
       "            background-color:  #fdfdfd;\n",
       "            color:  #000000;\n",
       "        }    #T_973c3eec_b28f_11eb_9002_9822efbd4ae6row4_col2 {\n",
       "            background-color:  #fefefe;\n",
       "            color:  #000000;\n",
       "        }    #T_973c3eec_b28f_11eb_9002_9822efbd4ae6row4_col3 {\n",
       "            background-color:  #ffffff;\n",
       "            color:  #000000;\n",
       "        }    #T_973c3eec_b28f_11eb_9002_9822efbd4ae6row4_col4 {\n",
       "            background-color:  #000000;\n",
       "            color:  #f1f1f1;\n",
       "        }    #T_973c3eec_b28f_11eb_9002_9822efbd4ae6row4_col5 {\n",
       "            background-color:  #a4a4a4;\n",
       "            color:  #000000;\n",
       "        }    #T_973c3eec_b28f_11eb_9002_9822efbd4ae6row4_col6 {\n",
       "            background-color:  #a2a2a2;\n",
       "            color:  #000000;\n",
       "        }    #T_973c3eec_b28f_11eb_9002_9822efbd4ae6row4_col7 {\n",
       "            background-color:  #fdfdfd;\n",
       "            color:  #000000;\n",
       "        }    #T_973c3eec_b28f_11eb_9002_9822efbd4ae6row4_col8 {\n",
       "            background-color:  #fafafa;\n",
       "            color:  #000000;\n",
       "        }    #T_973c3eec_b28f_11eb_9002_9822efbd4ae6row5_col0 {\n",
       "            background-color:  #ffffff;\n",
       "            color:  #000000;\n",
       "        }    #T_973c3eec_b28f_11eb_9002_9822efbd4ae6row5_col1 {\n",
       "            background-color:  #f6f6f6;\n",
       "            color:  #000000;\n",
       "        }    #T_973c3eec_b28f_11eb_9002_9822efbd4ae6row5_col2 {\n",
       "            background-color:  #ffffff;\n",
       "            color:  #000000;\n",
       "        }    #T_973c3eec_b28f_11eb_9002_9822efbd4ae6row5_col3 {\n",
       "            background-color:  #fbfbfb;\n",
       "            color:  #000000;\n",
       "        }    #T_973c3eec_b28f_11eb_9002_9822efbd4ae6row5_col4 {\n",
       "            background-color:  #f7f7f7;\n",
       "            color:  #000000;\n",
       "        }    #T_973c3eec_b28f_11eb_9002_9822efbd4ae6row5_col5 {\n",
       "            background-color:  #000000;\n",
       "            color:  #f1f1f1;\n",
       "        }    #T_973c3eec_b28f_11eb_9002_9822efbd4ae6row5_col6 {\n",
       "            background-color:  #ffffff;\n",
       "            color:  #000000;\n",
       "        }    #T_973c3eec_b28f_11eb_9002_9822efbd4ae6row5_col7 {\n",
       "            background-color:  #f8f8f8;\n",
       "            color:  #000000;\n",
       "        }    #T_973c3eec_b28f_11eb_9002_9822efbd4ae6row5_col8 {\n",
       "            background-color:  #fcfcfc;\n",
       "            color:  #000000;\n",
       "        }    #T_973c3eec_b28f_11eb_9002_9822efbd4ae6row6_col0 {\n",
       "            background-color:  #dfdfdf;\n",
       "            color:  #000000;\n",
       "        }    #T_973c3eec_b28f_11eb_9002_9822efbd4ae6row6_col1 {\n",
       "            background-color:  #f4f4f4;\n",
       "            color:  #000000;\n",
       "        }    #T_973c3eec_b28f_11eb_9002_9822efbd4ae6row6_col2 {\n",
       "            background-color:  #fefefe;\n",
       "            color:  #000000;\n",
       "        }    #T_973c3eec_b28f_11eb_9002_9822efbd4ae6row6_col3 {\n",
       "            background-color:  #fefefe;\n",
       "            color:  #000000;\n",
       "        }    #T_973c3eec_b28f_11eb_9002_9822efbd4ae6row6_col4 {\n",
       "            background-color:  #f5f5f5;\n",
       "            color:  #000000;\n",
       "        }    #T_973c3eec_b28f_11eb_9002_9822efbd4ae6row6_col5 {\n",
       "            background-color:  #ffffff;\n",
       "            color:  #000000;\n",
       "        }    #T_973c3eec_b28f_11eb_9002_9822efbd4ae6row6_col6 {\n",
       "            background-color:  #000000;\n",
       "            color:  #f1f1f1;\n",
       "        }    #T_973c3eec_b28f_11eb_9002_9822efbd4ae6row6_col7 {\n",
       "            background-color:  #ffffff;\n",
       "            color:  #000000;\n",
       "        }    #T_973c3eec_b28f_11eb_9002_9822efbd4ae6row6_col8 {\n",
       "            background-color:  #f7f7f7;\n",
       "            color:  #000000;\n",
       "        }    #T_973c3eec_b28f_11eb_9002_9822efbd4ae6row7_col0 {\n",
       "            background-color:  #f1f1f1;\n",
       "            color:  #000000;\n",
       "        }    #T_973c3eec_b28f_11eb_9002_9822efbd4ae6row7_col1 {\n",
       "            background-color:  #fbfbfb;\n",
       "            color:  #000000;\n",
       "        }    #T_973c3eec_b28f_11eb_9002_9822efbd4ae6row7_col2 {\n",
       "            background-color:  #fafafa;\n",
       "            color:  #000000;\n",
       "        }    #T_973c3eec_b28f_11eb_9002_9822efbd4ae6row7_col3 {\n",
       "            background-color:  #fefefe;\n",
       "            color:  #000000;\n",
       "        }    #T_973c3eec_b28f_11eb_9002_9822efbd4ae6row7_col4 {\n",
       "            background-color:  #fefefe;\n",
       "            color:  #000000;\n",
       "        }    #T_973c3eec_b28f_11eb_9002_9822efbd4ae6row7_col5 {\n",
       "            background-color:  #a5a5a5;\n",
       "            color:  #000000;\n",
       "        }    #T_973c3eec_b28f_11eb_9002_9822efbd4ae6row7_col6 {\n",
       "            background-color:  #aaaaaa;\n",
       "            color:  #000000;\n",
       "        }    #T_973c3eec_b28f_11eb_9002_9822efbd4ae6row7_col7 {\n",
       "            background-color:  #000000;\n",
       "            color:  #f1f1f1;\n",
       "        }    #T_973c3eec_b28f_11eb_9002_9822efbd4ae6row7_col8 {\n",
       "            background-color:  #fafafa;\n",
       "            color:  #000000;\n",
       "        }    #T_973c3eec_b28f_11eb_9002_9822efbd4ae6row8_col0 {\n",
       "            background-color:  #f4f4f4;\n",
       "            color:  #000000;\n",
       "        }    #T_973c3eec_b28f_11eb_9002_9822efbd4ae6row8_col1 {\n",
       "            background-color:  #ffffff;\n",
       "            color:  #000000;\n",
       "        }    #T_973c3eec_b28f_11eb_9002_9822efbd4ae6row8_col2 {\n",
       "            background-color:  #fdfdfd;\n",
       "            color:  #000000;\n",
       "        }    #T_973c3eec_b28f_11eb_9002_9822efbd4ae6row8_col3 {\n",
       "            background-color:  #fbfbfb;\n",
       "            color:  #000000;\n",
       "        }    #T_973c3eec_b28f_11eb_9002_9822efbd4ae6row8_col4 {\n",
       "            background-color:  #fcfcfc;\n",
       "            color:  #000000;\n",
       "        }    #T_973c3eec_b28f_11eb_9002_9822efbd4ae6row8_col5 {\n",
       "            background-color:  #a9a9a9;\n",
       "            color:  #000000;\n",
       "        }    #T_973c3eec_b28f_11eb_9002_9822efbd4ae6row8_col6 {\n",
       "            background-color:  #a5a5a5;\n",
       "            color:  #000000;\n",
       "        }    #T_973c3eec_b28f_11eb_9002_9822efbd4ae6row8_col7 {\n",
       "            background-color:  #fcfcfc;\n",
       "            color:  #000000;\n",
       "        }    #T_973c3eec_b28f_11eb_9002_9822efbd4ae6row8_col8 {\n",
       "            background-color:  #000000;\n",
       "            color:  #f1f1f1;\n",
       "        }</style><table id=\"T_973c3eec_b28f_11eb_9002_9822efbd4ae6\" ><thead>    <tr>        <th class=\"blank level0\" ></th>        <th class=\"col_heading level0 col0\" >Card_Family</th>        <th class=\"col_heading level0 col1\" >Credit_Limit</th>        <th class=\"col_heading level0 col2\" >Transaction_Value</th>        <th class=\"col_heading level0 col3\" >Transaction_Segment</th>        <th class=\"col_heading level0 col4\" >Age</th>        <th class=\"col_heading level0 col5\" >Customer_Segment</th>        <th class=\"col_heading level0 col6\" >Customer_Vintage_Group</th>        <th class=\"col_heading level0 col7\" >Fraud_Flag</th>        <th class=\"col_heading level0 col8\" >Transaction_Month</th>    </tr></thead><tbody>\n",
       "                <tr>\n",
       "                        <th id=\"T_973c3eec_b28f_11eb_9002_9822efbd4ae6level0_row0\" class=\"row_heading level0 row0\" >Card_Family</th>\n",
       "                        <td id=\"T_973c3eec_b28f_11eb_9002_9822efbd4ae6row0_col0\" class=\"data row0 col0\" >1</td>\n",
       "                        <td id=\"T_973c3eec_b28f_11eb_9002_9822efbd4ae6row0_col1\" class=\"data row0 col1\" >0.647977</td>\n",
       "                        <td id=\"T_973c3eec_b28f_11eb_9002_9822efbd4ae6row0_col2\" class=\"data row0 col2\" >0.00392537</td>\n",
       "                        <td id=\"T_973c3eec_b28f_11eb_9002_9822efbd4ae6row0_col3\" class=\"data row0 col3\" >-0.00683269</td>\n",
       "                        <td id=\"T_973c3eec_b28f_11eb_9002_9822efbd4ae6row0_col4\" class=\"data row0 col4\" >0.00845927</td>\n",
       "                        <td id=\"T_973c3eec_b28f_11eb_9002_9822efbd4ae6row0_col5\" class=\"data row0 col5\" >-0.0616408</td>\n",
       "                        <td id=\"T_973c3eec_b28f_11eb_9002_9822efbd4ae6row0_col6\" class=\"data row0 col6\" >0.0718989</td>\n",
       "                        <td id=\"T_973c3eec_b28f_11eb_9002_9822efbd4ae6row0_col7\" class=\"data row0 col7\" >1.16606e-05</td>\n",
       "                        <td id=\"T_973c3eec_b28f_11eb_9002_9822efbd4ae6row0_col8\" class=\"data row0 col8\" >-0.013309</td>\n",
       "            </tr>\n",
       "            <tr>\n",
       "                        <th id=\"T_973c3eec_b28f_11eb_9002_9822efbd4ae6level0_row1\" class=\"row_heading level0 row1\" >Credit_Limit</th>\n",
       "                        <td id=\"T_973c3eec_b28f_11eb_9002_9822efbd4ae6row1_col0\" class=\"data row1 col0\" >0.647977</td>\n",
       "                        <td id=\"T_973c3eec_b28f_11eb_9002_9822efbd4ae6row1_col1\" class=\"data row1 col1\" >1</td>\n",
       "                        <td id=\"T_973c3eec_b28f_11eb_9002_9822efbd4ae6row1_col2\" class=\"data row1 col2\" >-0.00666127</td>\n",
       "                        <td id=\"T_973c3eec_b28f_11eb_9002_9822efbd4ae6row1_col3\" class=\"data row1 col3\" >-0.00126913</td>\n",
       "                        <td id=\"T_973c3eec_b28f_11eb_9002_9822efbd4ae6row1_col4\" class=\"data row1 col4\" >-0.0128779</td>\n",
       "                        <td id=\"T_973c3eec_b28f_11eb_9002_9822efbd4ae6row1_col5\" class=\"data row1 col5\" >0.0156867</td>\n",
       "                        <td id=\"T_973c3eec_b28f_11eb_9002_9822efbd4ae6row1_col6\" class=\"data row1 col6\" >0.0234696</td>\n",
       "                        <td id=\"T_973c3eec_b28f_11eb_9002_9822efbd4ae6row1_col7\" class=\"data row1 col7\" >-0.00570406</td>\n",
       "                        <td id=\"T_973c3eec_b28f_11eb_9002_9822efbd4ae6row1_col8\" class=\"data row1 col8\" >-0.0216998</td>\n",
       "            </tr>\n",
       "            <tr>\n",
       "                        <th id=\"T_973c3eec_b28f_11eb_9002_9822efbd4ae6level0_row2\" class=\"row_heading level0 row2\" >Transaction_Value</th>\n",
       "                        <td id=\"T_973c3eec_b28f_11eb_9002_9822efbd4ae6row2_col0\" class=\"data row2 col0\" >0.00392537</td>\n",
       "                        <td id=\"T_973c3eec_b28f_11eb_9002_9822efbd4ae6row2_col1\" class=\"data row2 col1\" >-0.00666127</td>\n",
       "                        <td id=\"T_973c3eec_b28f_11eb_9002_9822efbd4ae6row2_col2\" class=\"data row2 col2\" >1</td>\n",
       "                        <td id=\"T_973c3eec_b28f_11eb_9002_9822efbd4ae6row2_col3\" class=\"data row2 col3\" >-0.00576552</td>\n",
       "                        <td id=\"T_973c3eec_b28f_11eb_9002_9822efbd4ae6row2_col4\" class=\"data row2 col4\" >-0.00173858</td>\n",
       "                        <td id=\"T_973c3eec_b28f_11eb_9002_9822efbd4ae6row2_col5\" class=\"data row2 col5\" >-0.00516142</td>\n",
       "                        <td id=\"T_973c3eec_b28f_11eb_9002_9822efbd4ae6row2_col6\" class=\"data row2 col6\" >-0.000226784</td>\n",
       "                        <td id=\"T_973c3eec_b28f_11eb_9002_9822efbd4ae6row2_col7\" class=\"data row2 col7\" >0.0149764</td>\n",
       "                        <td id=\"T_973c3eec_b28f_11eb_9002_9822efbd4ae6row2_col8\" class=\"data row2 col8\" >0.00289522</td>\n",
       "            </tr>\n",
       "            <tr>\n",
       "                        <th id=\"T_973c3eec_b28f_11eb_9002_9822efbd4ae6level0_row3\" class=\"row_heading level0 row3\" >Transaction_Segment</th>\n",
       "                        <td id=\"T_973c3eec_b28f_11eb_9002_9822efbd4ae6row3_col0\" class=\"data row3 col0\" >-0.00683269</td>\n",
       "                        <td id=\"T_973c3eec_b28f_11eb_9002_9822efbd4ae6row3_col1\" class=\"data row3 col1\" >-0.00126913</td>\n",
       "                        <td id=\"T_973c3eec_b28f_11eb_9002_9822efbd4ae6row3_col2\" class=\"data row3 col2\" >-0.00576552</td>\n",
       "                        <td id=\"T_973c3eec_b28f_11eb_9002_9822efbd4ae6row3_col3\" class=\"data row3 col3\" >1</td>\n",
       "                        <td id=\"T_973c3eec_b28f_11eb_9002_9822efbd4ae6row3_col4\" class=\"data row3 col4\" >-0.00452223</td>\n",
       "                        <td id=\"T_973c3eec_b28f_11eb_9002_9822efbd4ae6row3_col5\" class=\"data row3 col5\" >0.0107876</td>\n",
       "                        <td id=\"T_973c3eec_b28f_11eb_9002_9822efbd4ae6row3_col6\" class=\"data row3 col6\" >-0.00281304</td>\n",
       "                        <td id=\"T_973c3eec_b28f_11eb_9002_9822efbd4ae6row3_col7\" class=\"data row3 col7\" >-0.00251258</td>\n",
       "                        <td id=\"T_973c3eec_b28f_11eb_9002_9822efbd4ae6row3_col8\" class=\"data row3 col8\" >0.0106722</td>\n",
       "            </tr>\n",
       "            <tr>\n",
       "                        <th id=\"T_973c3eec_b28f_11eb_9002_9822efbd4ae6level0_row4\" class=\"row_heading level0 row4\" >Age</th>\n",
       "                        <td id=\"T_973c3eec_b28f_11eb_9002_9822efbd4ae6row4_col0\" class=\"data row4 col0\" >0.00845927</td>\n",
       "                        <td id=\"T_973c3eec_b28f_11eb_9002_9822efbd4ae6row4_col1\" class=\"data row4 col1\" >-0.0128779</td>\n",
       "                        <td id=\"T_973c3eec_b28f_11eb_9002_9822efbd4ae6row4_col2\" class=\"data row4 col2\" >-0.00173858</td>\n",
       "                        <td id=\"T_973c3eec_b28f_11eb_9002_9822efbd4ae6row4_col3\" class=\"data row4 col3\" >-0.00452223</td>\n",
       "                        <td id=\"T_973c3eec_b28f_11eb_9002_9822efbd4ae6row4_col4\" class=\"data row4 col4\" >1</td>\n",
       "                        <td id=\"T_973c3eec_b28f_11eb_9002_9822efbd4ae6row4_col5\" class=\"data row4 col5\" >0.019235</td>\n",
       "                        <td id=\"T_973c3eec_b28f_11eb_9002_9822efbd4ae6row4_col6\" class=\"data row4 col6\" >0.0293911</td>\n",
       "                        <td id=\"T_973c3eec_b28f_11eb_9002_9822efbd4ae6row4_col7\" class=\"data row4 col7\" >-0.00652548</td>\n",
       "                        <td id=\"T_973c3eec_b28f_11eb_9002_9822efbd4ae6row4_col8\" class=\"data row4 col8\" >0.000764042</td>\n",
       "            </tr>\n",
       "            <tr>\n",
       "                        <th id=\"T_973c3eec_b28f_11eb_9002_9822efbd4ae6level0_row5\" class=\"row_heading level0 row5\" >Customer_Segment</th>\n",
       "                        <td id=\"T_973c3eec_b28f_11eb_9002_9822efbd4ae6row5_col0\" class=\"data row5 col0\" >-0.0616408</td>\n",
       "                        <td id=\"T_973c3eec_b28f_11eb_9002_9822efbd4ae6row5_col1\" class=\"data row5 col1\" >0.0156867</td>\n",
       "                        <td id=\"T_973c3eec_b28f_11eb_9002_9822efbd4ae6row5_col2\" class=\"data row5 col2\" >-0.00516142</td>\n",
       "                        <td id=\"T_973c3eec_b28f_11eb_9002_9822efbd4ae6row5_col3\" class=\"data row5 col3\" >0.0107876</td>\n",
       "                        <td id=\"T_973c3eec_b28f_11eb_9002_9822efbd4ae6row5_col4\" class=\"data row5 col4\" >0.019235</td>\n",
       "                        <td id=\"T_973c3eec_b28f_11eb_9002_9822efbd4ae6row5_col5\" class=\"data row5 col5\" >1</td>\n",
       "                        <td id=\"T_973c3eec_b28f_11eb_9002_9822efbd4ae6row5_col6\" class=\"data row5 col6\" >-0.524703</td>\n",
       "                        <td id=\"T_973c3eec_b28f_11eb_9002_9822efbd4ae6row5_col7\" class=\"data row5 col7\" >0.0150165</td>\n",
       "                        <td id=\"T_973c3eec_b28f_11eb_9002_9822efbd4ae6row5_col8\" class=\"data row5 col8\" >-0.00715804</td>\n",
       "            </tr>\n",
       "            <tr>\n",
       "                        <th id=\"T_973c3eec_b28f_11eb_9002_9822efbd4ae6level0_row6\" class=\"row_heading level0 row6\" >Customer_Vintage_Group</th>\n",
       "                        <td id=\"T_973c3eec_b28f_11eb_9002_9822efbd4ae6row6_col0\" class=\"data row6 col0\" >0.0718989</td>\n",
       "                        <td id=\"T_973c3eec_b28f_11eb_9002_9822efbd4ae6row6_col1\" class=\"data row6 col1\" >0.0234696</td>\n",
       "                        <td id=\"T_973c3eec_b28f_11eb_9002_9822efbd4ae6row6_col2\" class=\"data row6 col2\" >-0.000226784</td>\n",
       "                        <td id=\"T_973c3eec_b28f_11eb_9002_9822efbd4ae6row6_col3\" class=\"data row6 col3\" >-0.00281304</td>\n",
       "                        <td id=\"T_973c3eec_b28f_11eb_9002_9822efbd4ae6row6_col4\" class=\"data row6 col4\" >0.0293911</td>\n",
       "                        <td id=\"T_973c3eec_b28f_11eb_9002_9822efbd4ae6row6_col5\" class=\"data row6 col5\" >-0.524703</td>\n",
       "                        <td id=\"T_973c3eec_b28f_11eb_9002_9822efbd4ae6row6_col6\" class=\"data row6 col6\" >1</td>\n",
       "                        <td id=\"T_973c3eec_b28f_11eb_9002_9822efbd4ae6row6_col7\" class=\"data row6 col7\" >-0.0153159</td>\n",
       "                        <td id=\"T_973c3eec_b28f_11eb_9002_9822efbd4ae6row6_col8\" class=\"data row6 col8\" >0.0126271</td>\n",
       "            </tr>\n",
       "            <tr>\n",
       "                        <th id=\"T_973c3eec_b28f_11eb_9002_9822efbd4ae6level0_row7\" class=\"row_heading level0 row7\" >Fraud_Flag</th>\n",
       "                        <td id=\"T_973c3eec_b28f_11eb_9002_9822efbd4ae6row7_col0\" class=\"data row7 col0\" >1.16606e-05</td>\n",
       "                        <td id=\"T_973c3eec_b28f_11eb_9002_9822efbd4ae6row7_col1\" class=\"data row7 col1\" >-0.00570406</td>\n",
       "                        <td id=\"T_973c3eec_b28f_11eb_9002_9822efbd4ae6row7_col2\" class=\"data row7 col2\" >0.0149764</td>\n",
       "                        <td id=\"T_973c3eec_b28f_11eb_9002_9822efbd4ae6row7_col3\" class=\"data row7 col3\" >-0.00251258</td>\n",
       "                        <td id=\"T_973c3eec_b28f_11eb_9002_9822efbd4ae6row7_col4\" class=\"data row7 col4\" >-0.00652548</td>\n",
       "                        <td id=\"T_973c3eec_b28f_11eb_9002_9822efbd4ae6row7_col5\" class=\"data row7 col5\" >0.0150165</td>\n",
       "                        <td id=\"T_973c3eec_b28f_11eb_9002_9822efbd4ae6row7_col6\" class=\"data row7 col6\" >-0.0153159</td>\n",
       "                        <td id=\"T_973c3eec_b28f_11eb_9002_9822efbd4ae6row7_col7\" class=\"data row7 col7\" >1</td>\n",
       "                        <td id=\"T_973c3eec_b28f_11eb_9002_9822efbd4ae6row7_col8\" class=\"data row7 col8\" >8.35811e-05</td>\n",
       "            </tr>\n",
       "            <tr>\n",
       "                        <th id=\"T_973c3eec_b28f_11eb_9002_9822efbd4ae6level0_row8\" class=\"row_heading level0 row8\" >Transaction_Month</th>\n",
       "                        <td id=\"T_973c3eec_b28f_11eb_9002_9822efbd4ae6row8_col0\" class=\"data row8 col0\" >-0.013309</td>\n",
       "                        <td id=\"T_973c3eec_b28f_11eb_9002_9822efbd4ae6row8_col1\" class=\"data row8 col1\" >-0.0216998</td>\n",
       "                        <td id=\"T_973c3eec_b28f_11eb_9002_9822efbd4ae6row8_col2\" class=\"data row8 col2\" >0.00289522</td>\n",
       "                        <td id=\"T_973c3eec_b28f_11eb_9002_9822efbd4ae6row8_col3\" class=\"data row8 col3\" >0.0106722</td>\n",
       "                        <td id=\"T_973c3eec_b28f_11eb_9002_9822efbd4ae6row8_col4\" class=\"data row8 col4\" >0.000764042</td>\n",
       "                        <td id=\"T_973c3eec_b28f_11eb_9002_9822efbd4ae6row8_col5\" class=\"data row8 col5\" >-0.00715804</td>\n",
       "                        <td id=\"T_973c3eec_b28f_11eb_9002_9822efbd4ae6row8_col6\" class=\"data row8 col6\" >0.0126271</td>\n",
       "                        <td id=\"T_973c3eec_b28f_11eb_9002_9822efbd4ae6row8_col7\" class=\"data row8 col7\" >8.35811e-05</td>\n",
       "                        <td id=\"T_973c3eec_b28f_11eb_9002_9822efbd4ae6row8_col8\" class=\"data row8 col8\" >1</td>\n",
       "            </tr>\n",
       "    </tbody></table>"
      ],
      "text/plain": [
       "<pandas.io.formats.style.Styler at 0x2cf4f18fa90>"
      ]
     },
     "execution_count": 21,
     "metadata": {},
     "output_type": "execute_result"
    }
   ],
   "source": [
    "import matplotlib.pyplot as plt\n",
    "\n",
    "corr = df.corr()\n",
    "corr.style.background_gradient(cmap='binary')"
   ]
  },
  {
   "cell_type": "code",
   "execution_count": 22,
   "metadata": {},
   "outputs": [
    {
     "data": {
      "text/plain": [
       "(109, 16)"
      ]
     },
     "execution_count": 22,
     "metadata": {},
     "output_type": "execute_result"
    }
   ],
   "source": [
    "df1 = df.loc[df['Fraud_Flag'] == 1]\n",
    "df1.shape"
   ]
  },
  {
   "cell_type": "code",
   "execution_count": 23,
   "metadata": {},
   "outputs": [
    {
     "data": {
      "text/html": [
       "<div>\n",
       "<style scoped>\n",
       "    .dataframe tbody tr th:only-of-type {\n",
       "        vertical-align: middle;\n",
       "    }\n",
       "\n",
       "    .dataframe tbody tr th {\n",
       "        vertical-align: top;\n",
       "    }\n",
       "\n",
       "    .dataframe thead th {\n",
       "        text-align: right;\n",
       "    }\n",
       "</style>\n",
       "<table border=\"1\" class=\"dataframe\">\n",
       "  <thead>\n",
       "    <tr style=\"text-align: right;\">\n",
       "      <th></th>\n",
       "      <th>Card_Number</th>\n",
       "      <th>Card_Family</th>\n",
       "      <th>Credit_Limit</th>\n",
       "      <th>Cust_ID</th>\n",
       "      <th>Transaction_ID</th>\n",
       "      <th>Transaction_Date</th>\n",
       "      <th>Credit_Card_ID</th>\n",
       "      <th>Transaction_Value</th>\n",
       "      <th>Transaction_Segment</th>\n",
       "      <th>Cust_ID.1</th>\n",
       "      <th>Age</th>\n",
       "      <th>Customer_Segment</th>\n",
       "      <th>Customer_Vintage_Group</th>\n",
       "      <th>Transaction_ID.1</th>\n",
       "      <th>Transaction_Month</th>\n",
       "    </tr>\n",
       "  </thead>\n",
       "  <tbody>\n",
       "    <tr>\n",
       "      <th>102</th>\n",
       "      <td>4246-1369-3659-8804</td>\n",
       "      <td>0</td>\n",
       "      <td>105000</td>\n",
       "      <td>CC21111</td>\n",
       "      <td>CTID50558449</td>\n",
       "      <td>06-May-16</td>\n",
       "      <td>4246-1369-3659-8804</td>\n",
       "      <td>6984</td>\n",
       "      <td>13</td>\n",
       "      <td>CC21111</td>\n",
       "      <td>43</td>\n",
       "      <td>2</td>\n",
       "      <td>1</td>\n",
       "      <td>CTID50558449</td>\n",
       "      <td>5</td>\n",
       "    </tr>\n",
       "    <tr>\n",
       "      <th>219</th>\n",
       "      <td>1336-9200-1264-2551</td>\n",
       "      <td>2</td>\n",
       "      <td>280000</td>\n",
       "      <td>CC16420</td>\n",
       "      <td>CTID55936882</td>\n",
       "      <td>29-Nov-16</td>\n",
       "      <td>1336-9200-1264-2551</td>\n",
       "      <td>34367</td>\n",
       "      <td>11</td>\n",
       "      <td>CC16420</td>\n",
       "      <td>22</td>\n",
       "      <td>0</td>\n",
       "      <td>2</td>\n",
       "      <td>CTID55936882</td>\n",
       "      <td>11</td>\n",
       "    </tr>\n",
       "    <tr>\n",
       "      <th>336</th>\n",
       "      <td>8528-6154-7390-5081</td>\n",
       "      <td>2</td>\n",
       "      <td>686000</td>\n",
       "      <td>CC90833</td>\n",
       "      <td>CTID63762180</td>\n",
       "      <td>05-Dec-16</td>\n",
       "      <td>8528-6154-7390-5081</td>\n",
       "      <td>44550</td>\n",
       "      <td>5</td>\n",
       "      <td>CC90833</td>\n",
       "      <td>32</td>\n",
       "      <td>1</td>\n",
       "      <td>0</td>\n",
       "      <td>CTID63762180</td>\n",
       "      <td>12</td>\n",
       "    </tr>\n",
       "    <tr>\n",
       "      <th>494</th>\n",
       "      <td>7908-2695-7391-7499</td>\n",
       "      <td>1</td>\n",
       "      <td>34000</td>\n",
       "      <td>CC53797</td>\n",
       "      <td>CTID76723439</td>\n",
       "      <td>15-Sep-16</td>\n",
       "      <td>7908-2695-7391-7499</td>\n",
       "      <td>48275</td>\n",
       "      <td>6</td>\n",
       "      <td>CC53797</td>\n",
       "      <td>35</td>\n",
       "      <td>1</td>\n",
       "      <td>0</td>\n",
       "      <td>CTID76723439</td>\n",
       "      <td>9</td>\n",
       "    </tr>\n",
       "    <tr>\n",
       "      <th>560</th>\n",
       "      <td>2524-4184-5908-6750</td>\n",
       "      <td>0</td>\n",
       "      <td>150000</td>\n",
       "      <td>CC69171</td>\n",
       "      <td>CTID21246201</td>\n",
       "      <td>29-Feb-16</td>\n",
       "      <td>2524-4184-5908-6750</td>\n",
       "      <td>35751</td>\n",
       "      <td>15</td>\n",
       "      <td>CC69171</td>\n",
       "      <td>41</td>\n",
       "      <td>1</td>\n",
       "      <td>0</td>\n",
       "      <td>CTID21246201</td>\n",
       "      <td>2</td>\n",
       "    </tr>\n",
       "  </tbody>\n",
       "</table>\n",
       "</div>"
      ],
      "text/plain": [
       "             Card_Number  Card_Family  Credit_Limit  Cust_ID Transaction_ID  \\\n",
       "102  4246-1369-3659-8804            0        105000  CC21111   CTID50558449   \n",
       "219  1336-9200-1264-2551            2        280000  CC16420   CTID55936882   \n",
       "336  8528-6154-7390-5081            2        686000  CC90833   CTID63762180   \n",
       "494  7908-2695-7391-7499            1         34000  CC53797   CTID76723439   \n",
       "560  2524-4184-5908-6750            0        150000  CC69171   CTID21246201   \n",
       "\n",
       "    Transaction_Date       Credit_Card_ID  Transaction_Value  \\\n",
       "102        06-May-16  4246-1369-3659-8804               6984   \n",
       "219        29-Nov-16  1336-9200-1264-2551              34367   \n",
       "336        05-Dec-16  8528-6154-7390-5081              44550   \n",
       "494        15-Sep-16  7908-2695-7391-7499              48275   \n",
       "560        29-Feb-16  2524-4184-5908-6750              35751   \n",
       "\n",
       "     Transaction_Segment Cust_ID.1  Age  Customer_Segment  \\\n",
       "102                   13   CC21111   43                 2   \n",
       "219                   11   CC16420   22                 0   \n",
       "336                    5   CC90833   32                 1   \n",
       "494                    6   CC53797   35                 1   \n",
       "560                   15   CC69171   41                 1   \n",
       "\n",
       "     Customer_Vintage_Group Transaction_ID.1  Transaction_Month  \n",
       "102                       1     CTID50558449                  5  \n",
       "219                       2     CTID55936882                 11  \n",
       "336                       0     CTID63762180                 12  \n",
       "494                       0     CTID76723439                  9  \n",
       "560                       0     CTID21246201                  2  "
      ]
     },
     "execution_count": 23,
     "metadata": {},
     "output_type": "execute_result"
    }
   ],
   "source": [
    "df1 = df1.drop(columns=['Fraud_Flag'])\n",
    "# df1['Fraud_Flag'] = 1\n",
    "df1.head()"
   ]
  },
  {
   "cell_type": "code",
   "execution_count": 24,
   "metadata": {},
   "outputs": [
    {
     "data": {
      "text/html": [
       "<style  type=\"text/css\" >\n",
       "    #T_9750714c_b28f_11eb_8382_9822efbd4ae6row0_col0 {\n",
       "            background-color:  #000000;\n",
       "            color:  #f1f1f1;\n",
       "        }    #T_9750714c_b28f_11eb_8382_9822efbd4ae6row0_col1 {\n",
       "            background-color:  #595959;\n",
       "            color:  #f1f1f1;\n",
       "        }    #T_9750714c_b28f_11eb_8382_9822efbd4ae6row0_col2 {\n",
       "            background-color:  #c3c3c3;\n",
       "            color:  #000000;\n",
       "        }    #T_9750714c_b28f_11eb_8382_9822efbd4ae6row0_col3 {\n",
       "            background-color:  #ebebeb;\n",
       "            color:  #000000;\n",
       "        }    #T_9750714c_b28f_11eb_8382_9822efbd4ae6row0_col4 {\n",
       "            background-color:  #c4c4c4;\n",
       "            color:  #000000;\n",
       "        }    #T_9750714c_b28f_11eb_8382_9822efbd4ae6row0_col5 {\n",
       "            background-color:  #cfcfcf;\n",
       "            color:  #000000;\n",
       "        }    #T_9750714c_b28f_11eb_8382_9822efbd4ae6row0_col6 {\n",
       "            background-color:  #9d9d9d;\n",
       "            color:  #000000;\n",
       "        }    #T_9750714c_b28f_11eb_8382_9822efbd4ae6row0_col7 {\n",
       "            background-color:  #f4f4f4;\n",
       "            color:  #000000;\n",
       "        }    #T_9750714c_b28f_11eb_8382_9822efbd4ae6row1_col0 {\n",
       "            background-color:  #565656;\n",
       "            color:  #f1f1f1;\n",
       "        }    #T_9750714c_b28f_11eb_8382_9822efbd4ae6row1_col1 {\n",
       "            background-color:  #000000;\n",
       "            color:  #f1f1f1;\n",
       "        }    #T_9750714c_b28f_11eb_8382_9822efbd4ae6row1_col2 {\n",
       "            background-color:  #c7c7c7;\n",
       "            color:  #000000;\n",
       "        }    #T_9750714c_b28f_11eb_8382_9822efbd4ae6row1_col3 {\n",
       "            background-color:  #f5f5f5;\n",
       "            color:  #000000;\n",
       "        }    #T_9750714c_b28f_11eb_8382_9822efbd4ae6row1_col4 {\n",
       "            background-color:  #cccccc;\n",
       "            color:  #000000;\n",
       "        }    #T_9750714c_b28f_11eb_8382_9822efbd4ae6row1_col5 {\n",
       "            background-color:  #a4a4a4;\n",
       "            color:  #000000;\n",
       "        }    #T_9750714c_b28f_11eb_8382_9822efbd4ae6row1_col6 {\n",
       "            background-color:  #aeaeae;\n",
       "            color:  #000000;\n",
       "        }    #T_9750714c_b28f_11eb_8382_9822efbd4ae6row1_col7 {\n",
       "            background-color:  #ffffff;\n",
       "            color:  #000000;\n",
       "        }    #T_9750714c_b28f_11eb_8382_9822efbd4ae6row2_col0 {\n",
       "            background-color:  #cdcdcd;\n",
       "            color:  #000000;\n",
       "        }    #T_9750714c_b28f_11eb_8382_9822efbd4ae6row2_col1 {\n",
       "            background-color:  #d7d7d7;\n",
       "            color:  #000000;\n",
       "        }    #T_9750714c_b28f_11eb_8382_9822efbd4ae6row2_col2 {\n",
       "            background-color:  #000000;\n",
       "            color:  #f1f1f1;\n",
       "        }    #T_9750714c_b28f_11eb_8382_9822efbd4ae6row2_col3 {\n",
       "            background-color:  #efefef;\n",
       "            color:  #000000;\n",
       "        }    #T_9750714c_b28f_11eb_8382_9822efbd4ae6row2_col4 {\n",
       "            background-color:  #ebebeb;\n",
       "            color:  #000000;\n",
       "        }    #T_9750714c_b28f_11eb_8382_9822efbd4ae6row2_col5 {\n",
       "            background-color:  #acacac;\n",
       "            color:  #000000;\n",
       "        }    #T_9750714c_b28f_11eb_8382_9822efbd4ae6row2_col6 {\n",
       "            background-color:  #dadada;\n",
       "            color:  #000000;\n",
       "        }    #T_9750714c_b28f_11eb_8382_9822efbd4ae6row2_col7 {\n",
       "            background-color:  #cecece;\n",
       "            color:  #000000;\n",
       "        }    #T_9750714c_b28f_11eb_8382_9822efbd4ae6row3_col0 {\n",
       "            background-color:  #e3e3e3;\n",
       "            color:  #000000;\n",
       "        }    #T_9750714c_b28f_11eb_8382_9822efbd4ae6row3_col1 {\n",
       "            background-color:  #f3f3f3;\n",
       "            color:  #000000;\n",
       "        }    #T_9750714c_b28f_11eb_8382_9822efbd4ae6row3_col2 {\n",
       "            background-color:  #dcdcdc;\n",
       "            color:  #000000;\n",
       "        }    #T_9750714c_b28f_11eb_8382_9822efbd4ae6row3_col3 {\n",
       "            background-color:  #000000;\n",
       "            color:  #f1f1f1;\n",
       "        }    #T_9750714c_b28f_11eb_8382_9822efbd4ae6row3_col4 {\n",
       "            background-color:  #f5f5f5;\n",
       "            color:  #000000;\n",
       "        }    #T_9750714c_b28f_11eb_8382_9822efbd4ae6row3_col5 {\n",
       "            background-color:  #acacac;\n",
       "            color:  #000000;\n",
       "        }    #T_9750714c_b28f_11eb_8382_9822efbd4ae6row3_col6 {\n",
       "            background-color:  #aaaaaa;\n",
       "            color:  #000000;\n",
       "        }    #T_9750714c_b28f_11eb_8382_9822efbd4ae6row3_col7 {\n",
       "            background-color:  #eeeeee;\n",
       "            color:  #000000;\n",
       "        }    #T_9750714c_b28f_11eb_8382_9822efbd4ae6row4_col0 {\n",
       "            background-color:  #c5c5c5;\n",
       "            color:  #000000;\n",
       "        }    #T_9750714c_b28f_11eb_8382_9822efbd4ae6row4_col1 {\n",
       "            background-color:  #d3d3d3;\n",
       "            color:  #000000;\n",
       "        }    #T_9750714c_b28f_11eb_8382_9822efbd4ae6row4_col2 {\n",
       "            background-color:  #e2e2e2;\n",
       "            color:  #000000;\n",
       "        }    #T_9750714c_b28f_11eb_8382_9822efbd4ae6row4_col3 {\n",
       "            background-color:  #ffffff;\n",
       "            color:  #000000;\n",
       "        }    #T_9750714c_b28f_11eb_8382_9822efbd4ae6row4_col4 {\n",
       "            background-color:  #000000;\n",
       "            color:  #f1f1f1;\n",
       "        }    #T_9750714c_b28f_11eb_8382_9822efbd4ae6row4_col5 {\n",
       "            background-color:  #878787;\n",
       "            color:  #000000;\n",
       "        }    #T_9750714c_b28f_11eb_8382_9822efbd4ae6row4_col6 {\n",
       "            background-color:  #d1d1d1;\n",
       "            color:  #000000;\n",
       "        }    #T_9750714c_b28f_11eb_8382_9822efbd4ae6row4_col7 {\n",
       "            background-color:  #f5f5f5;\n",
       "            color:  #000000;\n",
       "        }    #T_9750714c_b28f_11eb_8382_9822efbd4ae6row5_col0 {\n",
       "            background-color:  #ffffff;\n",
       "            color:  #000000;\n",
       "        }    #T_9750714c_b28f_11eb_8382_9822efbd4ae6row5_col1 {\n",
       "            background-color:  #d0d0d0;\n",
       "            color:  #000000;\n",
       "        }    #T_9750714c_b28f_11eb_8382_9822efbd4ae6row5_col2 {\n",
       "            background-color:  #cacaca;\n",
       "            color:  #000000;\n",
       "        }    #T_9750714c_b28f_11eb_8382_9822efbd4ae6row5_col3 {\n",
       "            background-color:  #dbdbdb;\n",
       "            color:  #000000;\n",
       "        }    #T_9750714c_b28f_11eb_8382_9822efbd4ae6row5_col4 {\n",
       "            background-color:  #a5a5a5;\n",
       "            color:  #000000;\n",
       "        }    #T_9750714c_b28f_11eb_8382_9822efbd4ae6row5_col5 {\n",
       "            background-color:  #000000;\n",
       "            color:  #f1f1f1;\n",
       "        }    #T_9750714c_b28f_11eb_8382_9822efbd4ae6row5_col6 {\n",
       "            background-color:  #ffffff;\n",
       "            color:  #000000;\n",
       "        }    #T_9750714c_b28f_11eb_8382_9822efbd4ae6row5_col7 {\n",
       "            background-color:  #d2d2d2;\n",
       "            color:  #000000;\n",
       "        }    #T_9750714c_b28f_11eb_8382_9822efbd4ae6row6_col0 {\n",
       "            background-color:  #c1c1c1;\n",
       "            color:  #000000;\n",
       "        }    #T_9750714c_b28f_11eb_8382_9822efbd4ae6row6_col1 {\n",
       "            background-color:  #dcdcdc;\n",
       "            color:  #000000;\n",
       "        }    #T_9750714c_b28f_11eb_8382_9822efbd4ae6row6_col2 {\n",
       "            background-color:  #ffffff;\n",
       "            color:  #000000;\n",
       "        }    #T_9750714c_b28f_11eb_8382_9822efbd4ae6row6_col3 {\n",
       "            background-color:  #d9d9d9;\n",
       "            color:  #000000;\n",
       "        }    #T_9750714c_b28f_11eb_8382_9822efbd4ae6row6_col4 {\n",
       "            background-color:  #ffffff;\n",
       "            color:  #000000;\n",
       "        }    #T_9750714c_b28f_11eb_8382_9822efbd4ae6row6_col5 {\n",
       "            background-color:  #ffffff;\n",
       "            color:  #000000;\n",
       "        }    #T_9750714c_b28f_11eb_8382_9822efbd4ae6row6_col6 {\n",
       "            background-color:  #000000;\n",
       "            color:  #f1f1f1;\n",
       "        }    #T_9750714c_b28f_11eb_8382_9822efbd4ae6row6_col7 {\n",
       "            background-color:  #c8c8c8;\n",
       "            color:  #000000;\n",
       "        }    #T_9750714c_b28f_11eb_8382_9822efbd4ae6row7_col0 {\n",
       "            background-color:  #eeeeee;\n",
       "            color:  #000000;\n",
       "        }    #T_9750714c_b28f_11eb_8382_9822efbd4ae6row7_col1 {\n",
       "            background-color:  #ffffff;\n",
       "            color:  #000000;\n",
       "        }    #T_9750714c_b28f_11eb_8382_9822efbd4ae6row7_col2 {\n",
       "            background-color:  #bfbfbf;\n",
       "            color:  #000000;\n",
       "        }    #T_9750714c_b28f_11eb_8382_9822efbd4ae6row7_col3 {\n",
       "            background-color:  #f0f0f0;\n",
       "            color:  #000000;\n",
       "        }    #T_9750714c_b28f_11eb_8382_9822efbd4ae6row7_col4 {\n",
       "            background-color:  #ededed;\n",
       "            color:  #000000;\n",
       "        }    #T_9750714c_b28f_11eb_8382_9822efbd4ae6row7_col5 {\n",
       "            background-color:  #a6a6a6;\n",
       "            color:  #000000;\n",
       "        }    #T_9750714c_b28f_11eb_8382_9822efbd4ae6row7_col6 {\n",
       "            background-color:  #9e9e9e;\n",
       "            color:  #000000;\n",
       "        }    #T_9750714c_b28f_11eb_8382_9822efbd4ae6row7_col7 {\n",
       "            background-color:  #000000;\n",
       "            color:  #f1f1f1;\n",
       "        }</style><table id=\"T_9750714c_b28f_11eb_8382_9822efbd4ae6\" ><thead>    <tr>        <th class=\"blank level0\" ></th>        <th class=\"col_heading level0 col0\" >Card_Family</th>        <th class=\"col_heading level0 col1\" >Credit_Limit</th>        <th class=\"col_heading level0 col2\" >Transaction_Value</th>        <th class=\"col_heading level0 col3\" >Transaction_Segment</th>        <th class=\"col_heading level0 col4\" >Age</th>        <th class=\"col_heading level0 col5\" >Customer_Segment</th>        <th class=\"col_heading level0 col6\" >Customer_Vintage_Group</th>        <th class=\"col_heading level0 col7\" >Transaction_Month</th>    </tr></thead><tbody>\n",
       "                <tr>\n",
       "                        <th id=\"T_9750714c_b28f_11eb_8382_9822efbd4ae6level0_row0\" class=\"row_heading level0 row0\" >Card_Family</th>\n",
       "                        <td id=\"T_9750714c_b28f_11eb_8382_9822efbd4ae6row0_col0\" class=\"data row0 col0\" >1</td>\n",
       "                        <td id=\"T_9750714c_b28f_11eb_8382_9822efbd4ae6row0_col1\" class=\"data row0 col1\" >0.608843</td>\n",
       "                        <td id=\"T_9750714c_b28f_11eb_8382_9822efbd4ae6row0_col2\" class=\"data row0 col2\" >0.0764589</td>\n",
       "                        <td id=\"T_9750714c_b28f_11eb_8382_9822efbd4ae6row0_col3\" class=\"data row0 col3\" >-0.0235414</td>\n",
       "                        <td id=\"T_9750714c_b28f_11eb_8382_9822efbd4ae6row0_col4\" class=\"data row0 col4\" >0.110209</td>\n",
       "                        <td id=\"T_9750714c_b28f_11eb_8382_9822efbd4ae6row0_col5\" class=\"data row0 col5\" >-0.152057</td>\n",
       "                        <td id=\"T_9750714c_b28f_11eb_8382_9822efbd4ae6row0_col6\" class=\"data row0 col6\" >0.127538</td>\n",
       "                        <td id=\"T_9750714c_b28f_11eb_8382_9822efbd4ae6row0_col7\" class=\"data row0 col7\" >-0.0727637</td>\n",
       "            </tr>\n",
       "            <tr>\n",
       "                        <th id=\"T_9750714c_b28f_11eb_8382_9822efbd4ae6level0_row1\" class=\"row_heading level0 row1\" >Credit_Limit</th>\n",
       "                        <td id=\"T_9750714c_b28f_11eb_8382_9822efbd4ae6row1_col0\" class=\"data row1 col0\" >0.608843</td>\n",
       "                        <td id=\"T_9750714c_b28f_11eb_8382_9822efbd4ae6row1_col1\" class=\"data row1 col1\" >1</td>\n",
       "                        <td id=\"T_9750714c_b28f_11eb_8382_9822efbd4ae6row1_col2\" class=\"data row1 col2\" >0.0573201</td>\n",
       "                        <td id=\"T_9750714c_b28f_11eb_8382_9822efbd4ae6row1_col3\" class=\"data row1 col3\" >-0.0651182</td>\n",
       "                        <td id=\"T_9750714c_b28f_11eb_8382_9822efbd4ae6row1_col4\" class=\"data row1 col4\" >0.0734841</td>\n",
       "                        <td id=\"T_9750714c_b28f_11eb_8382_9822efbd4ae6row1_col5\" class=\"data row1 col5\" >0.0871705</td>\n",
       "                        <td id=\"T_9750714c_b28f_11eb_8382_9822efbd4ae6row1_col6\" class=\"data row1 col6\" >0.0354692</td>\n",
       "                        <td id=\"T_9750714c_b28f_11eb_8382_9822efbd4ae6row1_col7\" class=\"data row1 col7\" >-0.121598</td>\n",
       "            </tr>\n",
       "            <tr>\n",
       "                        <th id=\"T_9750714c_b28f_11eb_8382_9822efbd4ae6level0_row2\" class=\"row_heading level0 row2\" >Transaction_Value</th>\n",
       "                        <td id=\"T_9750714c_b28f_11eb_8382_9822efbd4ae6row2_col0\" class=\"data row2 col0\" >0.0764589</td>\n",
       "                        <td id=\"T_9750714c_b28f_11eb_8382_9822efbd4ae6row2_col1\" class=\"data row2 col1\" >0.0573201</td>\n",
       "                        <td id=\"T_9750714c_b28f_11eb_8382_9822efbd4ae6row2_col2\" class=\"data row2 col2\" >1</td>\n",
       "                        <td id=\"T_9750714c_b28f_11eb_8382_9822efbd4ae6row2_col3\" class=\"data row2 col3\" >-0.0383738</td>\n",
       "                        <td id=\"T_9750714c_b28f_11eb_8382_9822efbd4ae6row2_col4\" class=\"data row2 col4\" >-0.0699421</td>\n",
       "                        <td id=\"T_9750714c_b28f_11eb_8382_9822efbd4ae6row2_col5\" class=\"data row2 col5\" >0.0460997</td>\n",
       "                        <td id=\"T_9750714c_b28f_11eb_8382_9822efbd4ae6row2_col6\" class=\"data row2 col6\" >-0.208139</td>\n",
       "                        <td id=\"T_9750714c_b28f_11eb_8382_9822efbd4ae6row2_col7\" class=\"data row2 col7\" >0.0954053</td>\n",
       "            </tr>\n",
       "            <tr>\n",
       "                        <th id=\"T_9750714c_b28f_11eb_8382_9822efbd4ae6level0_row3\" class=\"row_heading level0 row3\" >Transaction_Segment</th>\n",
       "                        <td id=\"T_9750714c_b28f_11eb_8382_9822efbd4ae6row3_col0\" class=\"data row3 col0\" >-0.0235414</td>\n",
       "                        <td id=\"T_9750714c_b28f_11eb_8382_9822efbd4ae6row3_col1\" class=\"data row3 col1\" >-0.0651182</td>\n",
       "                        <td id=\"T_9750714c_b28f_11eb_8382_9822efbd4ae6row3_col2\" class=\"data row3 col2\" >-0.0383738</td>\n",
       "                        <td id=\"T_9750714c_b28f_11eb_8382_9822efbd4ae6row3_col3\" class=\"data row3 col3\" >1</td>\n",
       "                        <td id=\"T_9750714c_b28f_11eb_8382_9822efbd4ae6row3_col4\" class=\"data row3 col4\" >-0.111959</td>\n",
       "                        <td id=\"T_9750714c_b28f_11eb_8382_9822efbd4ae6row3_col5\" class=\"data row3 col5\" >0.0453949</td>\n",
       "                        <td id=\"T_9750714c_b28f_11eb_8382_9822efbd4ae6row3_col6\" class=\"data row3 col6\" >0.0570836</td>\n",
       "                        <td id=\"T_9750714c_b28f_11eb_8382_9822efbd4ae6row3_col7\" class=\"data row3 col7\" >-0.0449295</td>\n",
       "            </tr>\n",
       "            <tr>\n",
       "                        <th id=\"T_9750714c_b28f_11eb_8382_9822efbd4ae6level0_row4\" class=\"row_heading level0 row4\" >Age</th>\n",
       "                        <td id=\"T_9750714c_b28f_11eb_8382_9822efbd4ae6row4_col0\" class=\"data row4 col0\" >0.110209</td>\n",
       "                        <td id=\"T_9750714c_b28f_11eb_8382_9822efbd4ae6row4_col1\" class=\"data row4 col1\" >0.0734841</td>\n",
       "                        <td id=\"T_9750714c_b28f_11eb_8382_9822efbd4ae6row4_col2\" class=\"data row4 col2\" >-0.0699421</td>\n",
       "                        <td id=\"T_9750714c_b28f_11eb_8382_9822efbd4ae6row4_col3\" class=\"data row4 col3\" >-0.111959</td>\n",
       "                        <td id=\"T_9750714c_b28f_11eb_8382_9822efbd4ae6row4_col4\" class=\"data row4 col4\" >1</td>\n",
       "                        <td id=\"T_9750714c_b28f_11eb_8382_9822efbd4ae6row4_col5\" class=\"data row4 col5\" >0.249809</td>\n",
       "                        <td id=\"T_9750714c_b28f_11eb_8382_9822efbd4ae6row4_col6\" class=\"data row4 col6\" >-0.161534</td>\n",
       "                        <td id=\"T_9750714c_b28f_11eb_8382_9822efbd4ae6row4_col7\" class=\"data row4 col7\" >-0.0769286</td>\n",
       "            </tr>\n",
       "            <tr>\n",
       "                        <th id=\"T_9750714c_b28f_11eb_8382_9822efbd4ae6level0_row5\" class=\"row_heading level0 row5\" >Customer_Segment</th>\n",
       "                        <td id=\"T_9750714c_b28f_11eb_8382_9822efbd4ae6row5_col0\" class=\"data row5 col0\" >-0.152057</td>\n",
       "                        <td id=\"T_9750714c_b28f_11eb_8382_9822efbd4ae6row5_col1\" class=\"data row5 col1\" >0.0871705</td>\n",
       "                        <td id=\"T_9750714c_b28f_11eb_8382_9822efbd4ae6row5_col2\" class=\"data row5 col2\" >0.0460997</td>\n",
       "                        <td id=\"T_9750714c_b28f_11eb_8382_9822efbd4ae6row5_col3\" class=\"data row5 col3\" >0.0453949</td>\n",
       "                        <td id=\"T_9750714c_b28f_11eb_8382_9822efbd4ae6row5_col4\" class=\"data row5 col4\" >0.249809</td>\n",
       "                        <td id=\"T_9750714c_b28f_11eb_8382_9822efbd4ae6row5_col5\" class=\"data row5 col5\" >1</td>\n",
       "                        <td id=\"T_9750714c_b28f_11eb_8382_9822efbd4ae6row5_col6\" class=\"data row5 col6\" >-0.418491</td>\n",
       "                        <td id=\"T_9750714c_b28f_11eb_8382_9822efbd4ae6row5_col7\" class=\"data row5 col7\" >0.0762587</td>\n",
       "            </tr>\n",
       "            <tr>\n",
       "                        <th id=\"T_9750714c_b28f_11eb_8382_9822efbd4ae6level0_row6\" class=\"row_heading level0 row6\" >Customer_Vintage_Group</th>\n",
       "                        <td id=\"T_9750714c_b28f_11eb_8382_9822efbd4ae6row6_col0\" class=\"data row6 col0\" >0.127538</td>\n",
       "                        <td id=\"T_9750714c_b28f_11eb_8382_9822efbd4ae6row6_col1\" class=\"data row6 col1\" >0.0354692</td>\n",
       "                        <td id=\"T_9750714c_b28f_11eb_8382_9822efbd4ae6row6_col2\" class=\"data row6 col2\" >-0.208139</td>\n",
       "                        <td id=\"T_9750714c_b28f_11eb_8382_9822efbd4ae6row6_col3\" class=\"data row6 col3\" >0.0570836</td>\n",
       "                        <td id=\"T_9750714c_b28f_11eb_8382_9822efbd4ae6row6_col4\" class=\"data row6 col4\" >-0.161534</td>\n",
       "                        <td id=\"T_9750714c_b28f_11eb_8382_9822efbd4ae6row6_col5\" class=\"data row6 col5\" >-0.418491</td>\n",
       "                        <td id=\"T_9750714c_b28f_11eb_8382_9822efbd4ae6row6_col6\" class=\"data row6 col6\" >1</td>\n",
       "                        <td id=\"T_9750714c_b28f_11eb_8382_9822efbd4ae6row6_col7\" class=\"data row6 col7\" >0.122119</td>\n",
       "            </tr>\n",
       "            <tr>\n",
       "                        <th id=\"T_9750714c_b28f_11eb_8382_9822efbd4ae6level0_row7\" class=\"row_heading level0 row7\" >Transaction_Month</th>\n",
       "                        <td id=\"T_9750714c_b28f_11eb_8382_9822efbd4ae6row7_col0\" class=\"data row7 col0\" >-0.0727637</td>\n",
       "                        <td id=\"T_9750714c_b28f_11eb_8382_9822efbd4ae6row7_col1\" class=\"data row7 col1\" >-0.121598</td>\n",
       "                        <td id=\"T_9750714c_b28f_11eb_8382_9822efbd4ae6row7_col2\" class=\"data row7 col2\" >0.0954053</td>\n",
       "                        <td id=\"T_9750714c_b28f_11eb_8382_9822efbd4ae6row7_col3\" class=\"data row7 col3\" >-0.0449295</td>\n",
       "                        <td id=\"T_9750714c_b28f_11eb_8382_9822efbd4ae6row7_col4\" class=\"data row7 col4\" >-0.0769286</td>\n",
       "                        <td id=\"T_9750714c_b28f_11eb_8382_9822efbd4ae6row7_col5\" class=\"data row7 col5\" >0.0762587</td>\n",
       "                        <td id=\"T_9750714c_b28f_11eb_8382_9822efbd4ae6row7_col6\" class=\"data row7 col6\" >0.122119</td>\n",
       "                        <td id=\"T_9750714c_b28f_11eb_8382_9822efbd4ae6row7_col7\" class=\"data row7 col7\" >1</td>\n",
       "            </tr>\n",
       "    </tbody></table>"
      ],
      "text/plain": [
       "<pandas.io.formats.style.Styler at 0x2cf4f35af98>"
      ]
     },
     "execution_count": 24,
     "metadata": {},
     "output_type": "execute_result"
    }
   ],
   "source": [
    "corr = df1.corr()\n",
    "corr.style.background_gradient(cmap='binary')"
   ]
  },
  {
   "cell_type": "code",
   "execution_count": 25,
   "metadata": {
    "scrolled": true
   },
   "outputs": [
    {
     "name": "stdout",
     "output_type": "stream",
     "text": [
      "Counter({9: 14, 12: 10, 2: 10, 6: 10, 1: 9, 3: 9, 8: 9, 4: 9, 10: 8, 5: 7, 11: 7, 7: 7})\n",
      "dict_keys([5, 11, 12, 9, 2, 1, 10, 3, 7, 6, 8, 4])\n",
      "dict_values([7, 7, 10, 14, 10, 9, 8, 9, 7, 10, 9, 9])\n"
     ]
    }
   ],
   "source": [
    "import collections\n",
    "val = df1['Transaction_Month']\n",
    "counter=collections.Counter(val)\n",
    "print(counter)\n",
    "print(counter.keys())\n",
    "print(counter.values())"
   ]
  },
  {
   "cell_type": "code",
   "execution_count": 26,
   "metadata": {},
   "outputs": [
    {
     "data": {
      "text/plain": [
       "<matplotlib.collections.PathCollection at 0x2cf51415e80>"
      ]
     },
     "execution_count": 26,
     "metadata": {},
     "output_type": "execute_result"
    },
    {
     "data": {
      "image/png": "[encoded data removed]",
      "text/plain": [
       "<Figure size 960x480 with 1 Axes>"
      ]
     },
     "metadata": {},
     "output_type": "display_data"
    }
   ],
   "source": [
    "plt.figure(figsize=(12, 6), dpi=80)\n",
    "plt.scatter(counter.keys(), counter.values())\n",
    "# # plt.xlabel('month')\n",
    "# plt.ylabel('fraud flag')"
   ]
  },
  {
   "cell_type": "markdown",
   "metadata": {},
   "source": [
    "variables to use: Card_Family, Credit_Limit, Transaction_Value, Transaction_Segment, Customer_Segment, Customer_Vintage_Group, Transaction_Month"
   ]
  },
  {
   "cell_type": "markdown",
   "metadata": {},
   "source": [
    "We see that credit limit is clustered around the low end for fraudulent cases which could signify low-income individuals. Transaction values are common between 30,000 to 40,000 dollars. Ages are random. A platinum card family holder is less likely to commit fraud than a gold or premium card holder."
   ]
  },
  {
   "cell_type": "markdown",
   "metadata": {},
   "source": [
    "A transaction segment of SEG11, a diamond customer segment, and a VG1 customer vintage group is far more likely to commit fraud.\n",
    "Frauds also happen most often in September."
   ]
  },
  {
   "cell_type": "markdown",
   "metadata": {},
   "source": [
    "### Predictions of credit card fraud"
   ]
  },
  {
   "cell_type": "markdown",
   "metadata": {},
   "source": [
    "Run exploratory data analysis with visualizations displaying fraud."
   ]
  },
  {
   "cell_type": "code",
   "execution_count": 46,
   "metadata": {},
   "outputs": [],
   "source": [
    "from sklearn.datasets import load_iris\n",
    "from sklearn.linear_model import LogisticRegression\n",
    "from sklearn.model_selection import train_test_split"
   ]
  },
  {
   "cell_type": "code",
   "execution_count": 47,
   "metadata": {},
   "outputs": [
    {
     "data": {
      "text/plain": [
       "Index(['Card_Number', 'Card_Family', 'Credit_Limit', 'Cust_ID',\n",
       "       'Transaction_ID', 'Transaction_Date', 'Credit_Card_ID',\n",
       "       'Transaction_Value', 'Transaction_Segment', 'Cust_ID.1', 'Age',\n",
       "       'Customer_Segment', 'Customer_Vintage_Group', 'Transaction_ID.1',\n",
       "       'Fraud_Flag', 'Transaction_Month'],\n",
       "      dtype='object')"
      ]
     },
     "execution_count": 47,
     "metadata": {},
     "output_type": "execute_result"
    }
   ],
   "source": [
    "df.columns"
   ]
  },
  {
   "cell_type": "code",
   "execution_count": 48,
   "metadata": {},
   "outputs": [
    {
     "data": {
      "text/plain": [
       "(10000, 7)"
      ]
     },
     "execution_count": 48,
     "metadata": {},
     "output_type": "execute_result"
    }
   ],
   "source": [
    "pred = df.drop(columns=['Card_Number', 'Cust_ID', 'Transaction_ID', 'Transaction_Date', 'Credit_Card_ID', 'Cust_ID.1', 'Age', \\\n",
    "                       'Transaction_ID.1', 'Fraud_Flag'])\n",
    "pred.shape"
   ]
  },
  {
   "cell_type": "code",
   "execution_count": 49,
   "metadata": {},
   "outputs": [
    {
     "data": {
      "text/plain": [
       "(10000,)"
      ]
     },
     "execution_count": 49,
     "metadata": {},
     "output_type": "execute_result"
    }
   ],
   "source": [
    "resp = df['Fraud_Flag']\n",
    "resp.shape"
   ]
  },
  {
   "cell_type": "code",
   "execution_count": 50,
   "metadata": {},
   "outputs": [],
   "source": [
    "X_train, X_test, y_train, y_test = train_test_split(pred, resp, test_size=0.2, random_state=44)"
   ]
  },
  {
   "cell_type": "code",
   "execution_count": 51,
   "metadata": {},
   "outputs": [
    {
     "data": {
      "text/plain": [
       "0.988625"
      ]
     },
     "execution_count": 51,
     "metadata": {},
     "output_type": "execute_result"
    }
   ],
   "source": [
    "clf = LogisticRegression(random_state=1).fit(X_train, y_train)\n",
    "clf.predict(X_train)\n",
    "clf.predict_proba(X_train)\n",
    "clf.score(X_train, y_train)"
   ]
  },
  {
   "cell_type": "code",
   "execution_count": 64,
   "metadata": {
    "scrolled": true
   },
   "outputs": [
    {
     "name": "stdout",
     "output_type": "stream",
     "text": [
      "prediction: 0\n",
      "actual: 0\n"
     ]
    }
   ],
   "source": [
    "i = 378 # arbitrary index\n",
    "print(\"prediction: \" + str(clf.predict(X_train[i:i+1])[0]))\n",
    "print(\"actual: \" + str(y_train[i]))"
   ]
  },
  {
   "cell_type": "code",
   "execution_count": 65,
   "metadata": {},
   "outputs": [],
   "source": [
    "incorrect = []\n",
    "for i in range(len(X_train)):\n",
    "    if clf.predict(X_train[i:i+1])[0] != y_train.iloc[i]:\n",
    "        incorrect.append(i)"
   ]
  },
  {
   "cell_type": "code",
   "execution_count": 72,
   "metadata": {},
   "outputs": [
    {
     "name": "stdout",
     "output_type": "stream",
     "text": [
      "336\n"
     ]
    },
    {
     "data": {
      "text/plain": [
       "Card_Number               8528-6154-7390-5081\n",
       "Card_Family                                 2\n",
       "Credit_Limit                           686000\n",
       "Cust_ID                               CC90833\n",
       "Transaction_ID                   CTID63762180\n",
       "Transaction_Date                    05-Dec-16\n",
       "Credit_Card_ID            8528-6154-7390-5081\n",
       "Transaction_Value                       44550\n",
       "Transaction_Segment                         5\n",
       "Cust_ID.1                             CC90833\n",
       "Age                                        32\n",
       "Customer_Segment                            1\n",
       "Customer_Vintage_Group                      0\n",
       "Transaction_ID.1                 CTID63762180\n",
       "Fraud_Flag                                  1\n",
       "Transaction_Month                          12\n",
       "Name: 336, dtype: object"
      ]
     },
     "execution_count": 72,
     "metadata": {},
     "output_type": "execute_result"
    }
   ],
   "source": [
    "# # determine actual fraud flag values in incorrect predictions\n",
    "# for i in incorrect:\n",
    "#     print(df.iloc[i]['Fraud_Flag'])\n",
    "print(incorrect[4])\n",
    "df.iloc[336]"
   ]
  },
  {
   "cell_type": "markdown",
   "metadata": {},
   "source": [
    "With a very high accuracy of 98.9% accuracy we can determine the likelihood of an individual commiting credit fraud given the predictor variables as train data."
   ]
  },
  {
   "cell_type": "markdown",
   "metadata": {},
   "source": [
    "Among the error in predictions in the train data there is one entry that has a fraud flag and this may because there are unlikely details of an individual who commits fraud such as this individuals high credit limit, and month in which the fraud was committed."
   ]
  }
 ],
 "metadata": {
  "colab": {
   "collapsed_sections": [],
   "name": "MGT412_Lecture_8_Empirical_Asset_Pricing.ipynb",
   "provenance": [],
   "version": "0.3.2"
  },
  "kernelspec": {
   "display_name": "Python 3",
   "language": "python",
   "name": "python3"
  },
  "language_info": {
   "codemirror_mode": {
    "name": "ipython",
    "version": 3
   },
   "file_extension": ".py",
   "mimetype": "text/x-python",
   "name": "python",
   "nbconvert_exporter": "python",
   "pygments_lexer": "ipython3",
   "version": "3.6.8"
  }
 },
 "nbformat": 4,
 "nbformat_minor": 2
}
